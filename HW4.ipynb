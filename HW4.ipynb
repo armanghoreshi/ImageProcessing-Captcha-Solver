{
 "cells": [
  {
   "cell_type": "code",
   "execution_count": 373,
   "metadata": {
    "scrolled": false
   },
   "outputs": [],
   "source": [
    "import cv2 as cv\n",
    "import matplotlib.pyplot as plt\n",
    "import numpy as np\n",
    "import sys\n",
    "from IPython.display import display\n",
    "from PIL import Image"
   ]
  },
  {
   "cell_type": "markdown",
   "metadata": {},
   "source": [
    "# Phase1\n",
    "# read image"
   ]
  },
  {
   "cell_type": "code",
   "execution_count": 374,
   "metadata": {},
   "outputs": [],
   "source": [
    "img = cv.imread('3.png',cv.IMREAD_GRAYSCALE)\n",
    "# img = cv.cvtColor(img,cv2.COLOR_BGR2RGB)\n",
    "# img = np.array(Image.open(\"adab.jpg\"))"
   ]
  },
  {
   "cell_type": "code",
   "execution_count": 375,
   "metadata": {},
   "outputs": [],
   "source": [
    "# plt.imshow(img)\n",
    "# plt.show()\n",
    "# display(Image.fromarray(img))"
   ]
  },
  {
   "cell_type": "markdown",
   "metadata": {},
   "source": [
    "# Phase 2\n",
    "# binarize"
   ]
  },
  {
   "cell_type": "code",
   "execution_count": 376,
   "metadata": {},
   "outputs": [
    {
     "data": {
      "image/png": "[encoded data removed]",
      "text/plain": [
       "<PIL.Image.Image image mode=L size=711x213 at 0x118679320>"
      ]
     },
     "metadata": {},
     "output_type": "display_data"
    }
   ],
   "source": [
    "img_bw = cv.adaptiveThreshold(img,255,cv.ADAPTIVE_THRESH_MEAN_C,cv.THRESH_BINARY_INV,23,10)\n",
    "display(Image.fromarray(img_bw))"
   ]
  },
  {
   "cell_type": "markdown",
   "metadata": {},
   "source": [
    "# Phase 3\n",
    "# Morphology | Noise reduction"
   ]
  },
  {
   "cell_type": "code",
   "execution_count": 377,
   "metadata": {},
   "outputs": [
    {
     "data": {
      "text/plain": [
       "array([[1, 1, 1, 1],\n",
       "       [1, 1, 1, 1],\n",
       "       [1, 1, 1, 1],\n",
       "       [1, 1, 1, 1]], dtype=uint8)"
      ]
     },
     "execution_count": 377,
     "metadata": {},
     "output_type": "execute_result"
    }
   ],
   "source": [
    "kern1 = np.ones((8,8),np.uint8)\n",
    "opening = cv.morphologyEx(img_bw,cv.MORPH_OPEN,kern1)\n",
    "kern2 = np.ones((4,4),np.uint8)\n",
    "opening = cv.dilate(opening,kern2)\n",
    "kern2"
   ]
  },
  {
   "cell_type": "code",
   "execution_count": 378,
   "metadata": {},
   "outputs": [
    {
     "data": {
      "image/png": "[encoded data removed]",
      "text/plain": [
       "<PIL.Image.Image image mode=L size=711x213 at 0x118679630>"
      ]
     },
     "metadata": {},
     "output_type": "display_data"
    }
   ],
   "source": [
    "display(Image.fromarray(opening))"
   ]
  },
  {
   "cell_type": "markdown",
   "metadata": {},
   "source": [
    "# Phase 4\n",
    "# extract letters and digits using contours"
   ]
  },
  {
   "cell_type": "code",
   "execution_count": 379,
   "metadata": {},
   "outputs": [
    {
     "data": {
      "image/png": "[encoded data removed]",
      "text/plain": [
       "<PIL.Image.Image image mode=L size=69x104 at 0x11868D550>"
      ]
     },
     "metadata": {},
     "output_type": "display_data"
    },
    {
     "data": {
      "image/png": "[encoded data removed]",
      "text/plain": [
       "<PIL.Image.Image image mode=L size=76x105 at 0x11868D710>"
      ]
     },
     "metadata": {},
     "output_type": "display_data"
    },
    {
     "data": {
      "image/png": "[encoded data removed]",
      "text/plain": [
       "<PIL.Image.Image image mode=L size=80x104 at 0x11868D4A8>"
      ]
     },
     "metadata": {},
     "output_type": "display_data"
    },
    {
     "data": {
      "image/png": "[encoded data removed]",
      "text/plain": [
       "<PIL.Image.Image image mode=L size=60x104 at 0x11868D550>"
      ]
     },
     "metadata": {},
     "output_type": "display_data"
    },
    {
     "data": {
      "image/png": "[encoded data removed]",
      "text/plain": [
       "<PIL.Image.Image image mode=L size=65x105 at 0x11868D710>"
      ]
     },
     "metadata": {},
     "output_type": "display_data"
    },
    {
     "data": {
      "image/png": "[encoded data removed]",
      "text/plain": [
       "<PIL.Image.Image image mode=L size=86x104 at 0x11868D550>"
      ]
     },
     "metadata": {},
     "output_type": "display_data"
    }
   ],
   "source": [
    "contours, hierarchy = cv.findContours(opening, cv.RETR_EXTERNAL, cv.CHAIN_APPROX_SIMPLE) \n",
    "\n",
    "sorted_ctrs = sorted(contours, key=lambda ctr: cv.boundingRect(ctr)[0])\n",
    "\n",
    "letters = []\n",
    "for i in range(len(sorted_ctrs)):\n",
    "    cnt = sorted_ctrs[i]\n",
    "    area = cv.contourArea(cnt)\n",
    "    if area>2000:\n",
    "#         cv.drawContours(opening, contours, -1, (0,255,0), 3)\n",
    "        x,y,w,h = cv.boundingRect(cnt)\n",
    "    \n",
    "#        epsilon = min(h, w) * 0.008\n",
    "#        vertices = cv.approxPolyDP(cnt, epsilon, True)\n",
    "#        print(len(vertices))\n",
    "        \n",
    "        croped = cv.bitwise_not(opening[y:y+h, x:x+w])\n",
    "        letters.append(croped)\n",
    "        display(Image.fromarray(croped))\n",
    "letters = np.asarray(letters)\n"
   ]
  },
  {
   "cell_type": "markdown",
   "metadata": {},
   "source": []
  },
  {
   "cell_type": "markdown",
   "metadata": {},
   "source": [
    "# Phase -1\n",
    "# extract labled images for detection\n",
    "# resize them to a standard size for comparison"
   ]
  },
  {
   "cell_type": "code",
   "execution_count": 380,
   "metadata": {},
   "outputs": [],
   "source": [
    "# for i in range(7):\n",
    "#     resized = cv.resize(letters[i], (100,180), interpolation = cv.INTER_AREA)\n",
    "#     cv.imwrite(\"./Labeled_images/labled\"+str(i)+\".png\",resized)"
   ]
  },
  {
   "cell_type": "markdown",
   "metadata": {},
   "source": [
    "# Phase 5\n",
    "# compare extracted letters to labeled images from phase -1"
   ]
  },
  {
   "cell_type": "code",
   "execution_count": 382,
   "metadata": {},
   "outputs": [
    {
     "name": "stdout",
     "output_type": "stream",
     "text": [
      "BCD12A\n"
     ]
    }
   ],
   "source": [
    "labeled = []\n",
    "captcha = \"\"\n",
    "for k in range(7):\n",
    "    labeled.append(cv.imread(\"./Labeled_images/labled\"+str(k)+\".png\",cv.IMREAD_GRAYSCALE))\n",
    "for i in range(len(letters)):\n",
    "    resized = cv.resize(letters[i], (100,180), interpolation = cv.INTER_AREA)\n",
    "    for j in range(len(labeled)):\n",
    "        sub = abs(labeled[j]-resized)\n",
    "        sub = sub.sum()\n",
    "        if(sub<190000):\n",
    "            if(j==0):\n",
    "                captcha = captcha+\"A\"\n",
    "            elif(j==1):\n",
    "                captcha = captcha+\"B\"\n",
    "            elif(j==2):\n",
    "                captcha = captcha+\"C\"\n",
    "            elif(j==3):\n",
    "                captcha = captcha+\"D\"\n",
    "            elif(j==4):\n",
    "                captcha = captcha+\"1\"\n",
    "            elif(j==5):\n",
    "                captcha = captcha+\"2\"\n",
    "            elif(j==6):\n",
    "                captcha = captcha+\"3\"\n",
    "print(captcha)"
   ]
  },
  {
   "cell_type": "code",
   "execution_count": null,
   "metadata": {},
   "outputs": [],
   "source": []
  }
 ],
 "metadata": {
  "kernelspec": {
   "display_name": "Python 3",
   "language": "python",
   "name": "python3"
  },
  "language_info": {
   "codemirror_mode": {
    "name": "ipython",
    "version": 3
   },
   "file_extension": ".py",
   "mimetype": "text/x-python",
   "name": "python",
   "nbconvert_exporter": "python",
   "pygments_lexer": "ipython3",
   "version": "3.7.0"
  }
 },
 "nbformat": 4,
 "nbformat_minor": 2
}
